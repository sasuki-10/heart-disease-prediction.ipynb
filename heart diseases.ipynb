import pickle
import numpy as np
import streamlit as st
from sklearn.model_selection import train_test_split
from sklearn.ensemble import RandomForestClassifier
import pandas as pd

import streamlit as st

pip install streamlit

import pickle
import numpy as np
import streamlit as st
from sklearn.model_selection import train_test_split
from sklearn.ensemble import RandomForestClassifier
import pandas as pd

try:
    with open("heart_disease_model.pkl", "rb") as file:
        model = pickle.load(file)
except FileNotFoundError:
    # Generate sample dataset
    data = {
        "alcohol": [1, 0, 1, 0, 1, 0, 1, 0, 1, 0],
        "smoking": [1, 1, 0, 0, 1, 0, 1, 1, 0, 0],
        "past_history": [1, 0, 1, 0, 1, 1, 0, 0, 1, 0],
        "family_history": [1, 0, 1, 1, 0, 0, 1, 1, 0, 0],
        "pulse": [80, 75, 90, 85, 95, 70, 88, 76, 92, 78],
        "heart_disease": [1, 0, 1, 0, 1, 0, 1, 1, 0, 0]
    }
    df = pd.DataFrame(data)
     # Train model
    X = df.drop(columns=["heart_disease"])
    y = df["heart_disease"]
    X_train, X_test, y_train, y_test = train_test_split(X, y, test_size=0.2, random_state=42)

    model = RandomForestClassifier(n_estimators=10, random_state=42)
    model.fit(X_train, y_train)

    # Save model
    with open("heart_disease_model.pkl", "wb") as file:
        pickle.dump(model, file)


def predict_heart_disease(alcohol, smoking, past_history, family_history, pulse):
    user_input = np.array([[alcohol, smoking, past_history, family_history, pulse]])
    prediction = model.predict(user_input)
    return "High Risk of Heart Disease" if prediction[0] == 1 else "Low Risk of Heart Disease"

# Streamlit UI
st.title("Heart Disease Prediction App")
st.write("Answer the following questions to predict your heart disease risk:")

alcohol = st.radio("Do you consume alcohol?", [1, 0])
smoking = st.radio("Do you smoke?", [1, 0])
past_history = st.radio("Do you have a past history of heart disease?", [1, 0])
family_history = st.radio("Is there a family history of heart disease?", [1, 0])
pulse = st.number_input("Enter your pulse rate:", min_value=40, max_value=200, step=1)

if st.button("Predict"):
    result = predict_heart_disease(alcohol, smoking, past_history, family_history, pulse)
    st.subheader("Prediction:")
    st.write(result)
!pip install streamlit scikit-learn pandas numpy

!streamlit run heart disease prediction.ipynb
